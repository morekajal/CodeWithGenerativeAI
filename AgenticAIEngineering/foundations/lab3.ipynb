{
 "cells": [
  {
   "cell_type": "markdown",
   "id": "bead334c",
   "metadata": {},
   "source": [
    "Build a Web Chatbot that acts like you using Gradio & OpenAI"
   ]
  },
  {
   "cell_type": "code",
   "execution_count": 1,
   "id": "00218a8f",
   "metadata": {},
   "outputs": [],
   "source": [
    "from dotenv import load_dotenv\n",
    "from openai import OpenAI\n",
    "from PyPDF2 import PdfReader\n",
    "import gradio as gr"
   ]
  },
  {
   "cell_type": "code",
   "execution_count": 2,
   "id": "ad1f876c",
   "metadata": {},
   "outputs": [],
   "source": [
    "load_dotenv(override=True)\n",
    "openai = OpenAI()"
   ]
  },
  {
   "cell_type": "code",
   "execution_count": 3,
   "id": "1f2d6e94",
   "metadata": {},
   "outputs": [],
   "source": [
    "reader = PdfReader(\"../support_docs/professional_cloud_architect_exam_guide_english.pdf\")"
   ]
  },
  {
   "cell_type": "code",
   "execution_count": 4,
   "id": "0ffef912",
   "metadata": {},
   "outputs": [],
   "source": [
    "data = \"\"\n",
    "for page in reader.pages:\n",
    "    text = page.extract_text()\n",
    "    if text:\n",
    "        data += text"
   ]
  },
  {
   "cell_type": "code",
   "execution_count": 5,
   "id": "0ed802a7",
   "metadata": {},
   "outputs": [
    {
     "name": "stdout",
     "output_type": "stream",
     "text": [
      "Professional Cloud Architect\n",
      "Certification exam guide\n",
      "A Google Cloud Certi\u0000ed Professional Cloud Architect enables organizations to leverage\n",
      "Google Cloud technologies. Through an understanding of cloud architecture and Google\n",
      "technology, this individual designs, develops, and manages robust, secure, scalable, highly\n",
      "available, and dynamic solutions to drive business objectives. The Cloud Architect should be\n",
      "pro\u0000cient in all aspects of enterprise cloud strategy, solution design, and architectural best\n",
      "practices. The Cloud Architect should also be experienced in so\u0000ware development\n",
      "methodologies and approaches including multi-tiered distributed applications which span\n",
      "multicloud or hybrid environments.\n",
      "Case studies\n",
      "During the exam for the Cloud Architect Certi\u0000cation, some of the questions may refer you to\n",
      "a case study that describes a \u0000ctitious business and solution concept. These case studies are\n",
      "intended to provide additional context to help you choose your answers. Review the case\n",
      "studies that may be used in the exam.\n",
      "EHR Healthcare\n",
      "Helicopter Racing League\n",
      "Mountkirk Games\n",
      "TerramEarth\n",
      "Section 1: Designing and planning a cloud solution architecture (~24% of the\n",
      "exam)\n",
      "1.1 Designing a solution infrastructure that meets business requirements. Considerations\n",
      "include:\n",
      "●\n",
      "Business use cases and product strategy\n",
      "●\n",
      "Cost optimization\n",
      "●\n",
      "Supporting the application design\n",
      "●\n",
      "Integration with external systems\n",
      "●\n",
      "Movement of data\n",
      "●\n",
      "Design decision trade-o\u0000s\n",
      "●\n",
      "Build, buy, modify, or deprecate\n",
      "1\n",
      "●\n",
      "Success measurements (e.g., key performance indicators [KPI], return on investment\n",
      "[ROI], metrics)\n",
      "●\n",
      "Compliance and observability\n",
      "1.2 Designing a solution infrastructure that meets technical requirements. Considerations\n",
      "include:\n",
      "●\n",
      "High availability and failover design\n",
      "●\n",
      "Elasticity of cloud resources with respect to quotas and limits\n",
      "●\n",
      "Scalability to meet growth requirements\n",
      "●\n",
      "Performance and latency\n",
      "1.3 Designing network, storage, and compute resources. Considerations include:\n",
      "●\n",
      "Integration with on-premises/multicloud environments\n",
      "●\n",
      "Cloud-native networking (VPC, peering, \u0000rewalls, container networking)\n",
      "●\n",
      "Choosing data processing technologies\n",
      "●\n",
      "Choosing appropriate storage types (e.g., object, \u0000le, databases)\n",
      "●\n",
      "Choosing compute resources (e.g., spot, custom machine type, specialized workload)\n",
      "●\n",
      "Mapping compute needs to pla\u0000orm products\n",
      "1.4 Creating a migration plan (i.e., documents and architectural diagrams). Considerations\n",
      "include:\n",
      "●\n",
      "Integrating solutions with existing systems\n",
      "●\n",
      "Migrating systems and data to support the solution\n",
      "●\n",
      "So\u0000ware license mapping\n",
      "●\n",
      "Network planning\n",
      "●\n",
      "Testing and proofs of concept\n",
      "●\n",
      "Dependency management planning\n",
      "1.5 Envisioning future solution improvements. Considerations include:\n",
      "●\n",
      "Cloud and technology improvements\n",
      "●\n",
      "Evolution of business needs\n",
      "●\n",
      "Evangelism and advocacy\n",
      "2\n",
      "Section 2: Managing and provisioning a solution infrastructure (~15% of the\n",
      "exam)\n",
      "2.1 Con\u0000guring network topologies. Considerations include:\n",
      "●\n",
      "Extending to on-premises environments (hybrid networking)\n",
      "●\n",
      "Extending to a multicloud environment that may include Google Cloud to Google Cloud\n",
      "communication\n",
      "●\n",
      "Security protection (e.g. intrusion protection, access control, \u0000rewalls)\n",
      "2.2 Con\u0000guring individual storage systems. Considerations include:\n",
      "●\n",
      "Data storage allocation\n",
      "●\n",
      "Data processing/compute provisioning\n",
      "●\n",
      "Security and access management\n",
      "●\n",
      "Network con\u0000guration for data transfer and latency\n",
      "●\n",
      "Data retention and data life cycle management\n",
      "●\n",
      "Data growth planning\n",
      "2.3 Con\u0000guring compute systems. Considerations include:\n",
      "●\n",
      "Compute resource provisioning\n",
      "●\n",
      "Compute volatility con\u0000guration (spot vs. standard)\n",
      "●\n",
      "Network con\u0000guration for compute resources (Google Compute Engine, Google\n",
      "Kubernetes Engine, serverless networking)\n",
      "●\n",
      "Infrastructure orchestration, resource con\u0000guration, and patch management\n",
      "●\n",
      "Container orchestration\n",
      "Section 3: Designing for security and compliance (~18% of the exam)\n",
      "3.1 Designing for security. Considerations include:\n",
      "●\n",
      "Identity and access management (IAM)\n",
      "●\n",
      "Resource hierarchy (organizations, folders, projects)\n",
      "●\n",
      "Data security (key management, encryption, secret management)\n",
      "●\n",
      "Separation of duties (SoD)\n",
      "●\n",
      "Security controls (e.g., auditing, VPC Service Controls, context aware access,\n",
      "organization policy)\n",
      "3\n",
      "●\n",
      "Managing customer-managed encryption keys with Cloud Key Management Service\n",
      "●\n",
      "Remote access\n",
      "3.2 Designing for compliance. Considerations include:\n",
      "●\n",
      "Legislation (e.g., health record privacy, children’s privacy, data privacy, and ownership)\n",
      "●\n",
      "Commercial (e.g., sensitive data such as credit card information handling, personally\n",
      "identi\u0000able information [PII])\n",
      "●\n",
      "Industry certi\u0000cations (e.g., SOC 2)\n",
      "●\n",
      "Audits (including logs)\n",
      "Section 4: Analyzing and optimizing technical and business processes (~18% of\n",
      "the exam)\n",
      "4.1 Analyzing and de\u0000ning technical processes. Considerations include:\n",
      "●\n",
      "So\u0000ware development life cycle (SDLC)\n",
      "●\n",
      "Continuous integration / continuous deployment\n",
      "●\n",
      "Troubleshooting / root cause analysis best practices\n",
      "●\n",
      "Testing and validation of so\u0000ware and infrastructure\n",
      "●\n",
      "Service catalog and provisioning\n",
      "●\n",
      "Business continuity and disaster recovery\n",
      "4.2 Analyzing and de\u0000ning business processes. Considerations include:\n",
      "●\n",
      "Stakeholder management (e.g. in\u0000uencing and facilitation)\n",
      "●\n",
      "Change management\n",
      "●\n",
      "Team assessment / skills readiness\n",
      "●\n",
      "Decision-making processes\n",
      "●\n",
      "Customer success management\n",
      "●\n",
      "Cost optimization / resource optimization (CapEx / OpEx)\n",
      "4.3 Developing procedures to ensure reliability of solutions in production (e.g., chaos\n",
      "engineering, penetration testing)\n",
      "4\n",
      "Section 5: Managing implementation (~11% of the exam)\n",
      "5.1 Advising development/operation teams to ensure successful deployment of the solution.\n",
      "Considerations include:\n",
      "●\n",
      "Application development\n",
      "●\n",
      "API management best practices\n",
      "●\n",
      "Testing frameworks (load/unit/integration)\n",
      "●\n",
      "Data and system migration and management tooling\n",
      "5.2 Interacting with Google Cloud programmatically. Considerations include:\n",
      "●\n",
      "Cloud Shell\n",
      "●\n",
      "Google Cloud SDK (gcloud, gsutil and bq)\n",
      "●\n",
      "Cloud Emulators (e.g. Bigtable, Spanner, Pub/Sub, Firestore)\n",
      "Section 6: Ensuring solution and operations reliability (~14% of the exam)\n",
      "6.1 Monitoring/logging/pro\u0000ling/alerting solution\n",
      "6.2 Deployment and release management\n",
      "6.3 Assisting with the support of deployed solutions\n",
      "6.4 Evaluating quality control measures\n",
      "5\n",
      "\n"
     ]
    }
   ],
   "source": [
    "print(data)"
   ]
  },
  {
   "cell_type": "code",
   "execution_count": 6,
   "id": "3c0fae04",
   "metadata": {},
   "outputs": [],
   "source": [
    "name = \"Parth\""
   ]
  },
  {
   "cell_type": "code",
   "execution_count": 11,
   "id": "4cc15a91",
   "metadata": {},
   "outputs": [],
   "source": [
    "system_prompt = f\"You are acting as Technical Consultant. You are answering questions on {data} from {name}'s college syllabus, \\\n",
    "    particularly questions related to {name}'s future career options, skills, domain and areas to focus. \\\n",
    "    Your responsibility is to help {name} for choosing the syllabus option as faithfully as possible. \\\n",
    "    You are given a pdf of the syllabus to refere the course of action and tell {name} the suitable career options. \\\n",
    "    Be professional and engaging, as if talking to a potential future developer.\\\n",
    "    If you don't know the answer, say so.\"\n",
    "\n",
    "system_prompt += f\"With this context, please chat with the user, always staying in character as Technical Consultant.\""
   ]
  },
  {
   "cell_type": "code",
   "execution_count": 12,
   "id": "2686526c",
   "metadata": {},
   "outputs": [
    {
     "name": "stdout",
     "output_type": "stream",
     "text": [
      "You are acting as Technical Consultant. You are answering questions on Professional Cloud Architect\n",
      "Certification exam guide\n",
      "A Google Cloud Certi\u0000ed Professional Cloud Architect enables organizations to leverage\n",
      "Google Cloud technologies. Through an understanding of cloud architecture and Google\n",
      "technology, this individual designs, develops, and manages robust, secure, scalable, highly\n",
      "available, and dynamic solutions to drive business objectives. The Cloud Architect should be\n",
      "pro\u0000cient in all aspects of enterprise cloud strategy, solution design, and architectural best\n",
      "practices. The Cloud Architect should also be experienced in so\u0000ware development\n",
      "methodologies and approaches including multi-tiered distributed applications which span\n",
      "multicloud or hybrid environments.\n",
      "Case studies\n",
      "During the exam for the Cloud Architect Certi\u0000cation, some of the questions may refer you to\n",
      "a case study that describes a \u0000ctitious business and solution concept. These case studies are\n",
      "intended to provide additional context to help you choose your answers. Review the case\n",
      "studies that may be used in the exam.\n",
      "EHR Healthcare\n",
      "Helicopter Racing League\n",
      "Mountkirk Games\n",
      "TerramEarth\n",
      "Section 1: Designing and planning a cloud solution architecture (~24% of the\n",
      "exam)\n",
      "1.1 Designing a solution infrastructure that meets business requirements. Considerations\n",
      "include:\n",
      "●\n",
      "Business use cases and product strategy\n",
      "●\n",
      "Cost optimization\n",
      "●\n",
      "Supporting the application design\n",
      "●\n",
      "Integration with external systems\n",
      "●\n",
      "Movement of data\n",
      "●\n",
      "Design decision trade-o\u0000s\n",
      "●\n",
      "Build, buy, modify, or deprecate\n",
      "1\n",
      "●\n",
      "Success measurements (e.g., key performance indicators [KPI], return on investment\n",
      "[ROI], metrics)\n",
      "●\n",
      "Compliance and observability\n",
      "1.2 Designing a solution infrastructure that meets technical requirements. Considerations\n",
      "include:\n",
      "●\n",
      "High availability and failover design\n",
      "●\n",
      "Elasticity of cloud resources with respect to quotas and limits\n",
      "●\n",
      "Scalability to meet growth requirements\n",
      "●\n",
      "Performance and latency\n",
      "1.3 Designing network, storage, and compute resources. Considerations include:\n",
      "●\n",
      "Integration with on-premises/multicloud environments\n",
      "●\n",
      "Cloud-native networking (VPC, peering, \u0000rewalls, container networking)\n",
      "●\n",
      "Choosing data processing technologies\n",
      "●\n",
      "Choosing appropriate storage types (e.g., object, \u0000le, databases)\n",
      "●\n",
      "Choosing compute resources (e.g., spot, custom machine type, specialized workload)\n",
      "●\n",
      "Mapping compute needs to pla\u0000orm products\n",
      "1.4 Creating a migration plan (i.e., documents and architectural diagrams). Considerations\n",
      "include:\n",
      "●\n",
      "Integrating solutions with existing systems\n",
      "●\n",
      "Migrating systems and data to support the solution\n",
      "●\n",
      "So\u0000ware license mapping\n",
      "●\n",
      "Network planning\n",
      "●\n",
      "Testing and proofs of concept\n",
      "●\n",
      "Dependency management planning\n",
      "1.5 Envisioning future solution improvements. Considerations include:\n",
      "●\n",
      "Cloud and technology improvements\n",
      "●\n",
      "Evolution of business needs\n",
      "●\n",
      "Evangelism and advocacy\n",
      "2\n",
      "Section 2: Managing and provisioning a solution infrastructure (~15% of the\n",
      "exam)\n",
      "2.1 Con\u0000guring network topologies. Considerations include:\n",
      "●\n",
      "Extending to on-premises environments (hybrid networking)\n",
      "●\n",
      "Extending to a multicloud environment that may include Google Cloud to Google Cloud\n",
      "communication\n",
      "●\n",
      "Security protection (e.g. intrusion protection, access control, \u0000rewalls)\n",
      "2.2 Con\u0000guring individual storage systems. Considerations include:\n",
      "●\n",
      "Data storage allocation\n",
      "●\n",
      "Data processing/compute provisioning\n",
      "●\n",
      "Security and access management\n",
      "●\n",
      "Network con\u0000guration for data transfer and latency\n",
      "●\n",
      "Data retention and data life cycle management\n",
      "●\n",
      "Data growth planning\n",
      "2.3 Con\u0000guring compute systems. Considerations include:\n",
      "●\n",
      "Compute resource provisioning\n",
      "●\n",
      "Compute volatility con\u0000guration (spot vs. standard)\n",
      "●\n",
      "Network con\u0000guration for compute resources (Google Compute Engine, Google\n",
      "Kubernetes Engine, serverless networking)\n",
      "●\n",
      "Infrastructure orchestration, resource con\u0000guration, and patch management\n",
      "●\n",
      "Container orchestration\n",
      "Section 3: Designing for security and compliance (~18% of the exam)\n",
      "3.1 Designing for security. Considerations include:\n",
      "●\n",
      "Identity and access management (IAM)\n",
      "●\n",
      "Resource hierarchy (organizations, folders, projects)\n",
      "●\n",
      "Data security (key management, encryption, secret management)\n",
      "●\n",
      "Separation of duties (SoD)\n",
      "●\n",
      "Security controls (e.g., auditing, VPC Service Controls, context aware access,\n",
      "organization policy)\n",
      "3\n",
      "●\n",
      "Managing customer-managed encryption keys with Cloud Key Management Service\n",
      "●\n",
      "Remote access\n",
      "3.2 Designing for compliance. Considerations include:\n",
      "●\n",
      "Legislation (e.g., health record privacy, children’s privacy, data privacy, and ownership)\n",
      "●\n",
      "Commercial (e.g., sensitive data such as credit card information handling, personally\n",
      "identi\u0000able information [PII])\n",
      "●\n",
      "Industry certi\u0000cations (e.g., SOC 2)\n",
      "●\n",
      "Audits (including logs)\n",
      "Section 4: Analyzing and optimizing technical and business processes (~18% of\n",
      "the exam)\n",
      "4.1 Analyzing and de\u0000ning technical processes. Considerations include:\n",
      "●\n",
      "So\u0000ware development life cycle (SDLC)\n",
      "●\n",
      "Continuous integration / continuous deployment\n",
      "●\n",
      "Troubleshooting / root cause analysis best practices\n",
      "●\n",
      "Testing and validation of so\u0000ware and infrastructure\n",
      "●\n",
      "Service catalog and provisioning\n",
      "●\n",
      "Business continuity and disaster recovery\n",
      "4.2 Analyzing and de\u0000ning business processes. Considerations include:\n",
      "●\n",
      "Stakeholder management (e.g. in\u0000uencing and facilitation)\n",
      "●\n",
      "Change management\n",
      "●\n",
      "Team assessment / skills readiness\n",
      "●\n",
      "Decision-making processes\n",
      "●\n",
      "Customer success management\n",
      "●\n",
      "Cost optimization / resource optimization (CapEx / OpEx)\n",
      "4.3 Developing procedures to ensure reliability of solutions in production (e.g., chaos\n",
      "engineering, penetration testing)\n",
      "4\n",
      "Section 5: Managing implementation (~11% of the exam)\n",
      "5.1 Advising development/operation teams to ensure successful deployment of the solution.\n",
      "Considerations include:\n",
      "●\n",
      "Application development\n",
      "●\n",
      "API management best practices\n",
      "●\n",
      "Testing frameworks (load/unit/integration)\n",
      "●\n",
      "Data and system migration and management tooling\n",
      "5.2 Interacting with Google Cloud programmatically. Considerations include:\n",
      "●\n",
      "Cloud Shell\n",
      "●\n",
      "Google Cloud SDK (gcloud, gsutil and bq)\n",
      "●\n",
      "Cloud Emulators (e.g. Bigtable, Spanner, Pub/Sub, Firestore)\n",
      "Section 6: Ensuring solution and operations reliability (~14% of the exam)\n",
      "6.1 Monitoring/logging/pro\u0000ling/alerting solution\n",
      "6.2 Deployment and release management\n",
      "6.3 Assisting with the support of deployed solutions\n",
      "6.4 Evaluating quality control measures\n",
      "5\n",
      " from Parth's college syllabus,     particularly questions related to Parth's future career options, skills, domain and areas to focus.     Your responsibility is to help Parth for choosing the syllabus option as faithfully as possible.     You are given a pdf of the syllabus to refere the course of action and tell Parth the suitable career options.     Be professional and engaging, as if talking to a potential future developer.    If you don't know the answer, say so.With this context, please chat with the user, always staying in character as Technical Consultant.\n"
     ]
    }
   ],
   "source": [
    "print(system_prompt)"
   ]
  },
  {
   "cell_type": "code",
   "execution_count": 13,
   "id": "4df09d12",
   "metadata": {},
   "outputs": [],
   "source": [
    "def chat(message, history):\n",
    "    messages = [{\"role\": \"system\", \"content\": system_prompt}] + history + [{\"role\": \"user\", \"content\":message}]\n",
    "    response = openai.chat.completions.create(model = \"gpt-4o-mini\", messages= messages)\n",
    "    return response.choices[0].message.content\n"
   ]
  },
  {
   "cell_type": "code",
   "execution_count": 14,
   "id": "9e3d7f64",
   "metadata": {},
   "outputs": [
    {
     "name": "stdout",
     "output_type": "stream",
     "text": [
      "* Running on local URL:  http://127.0.0.1:7861\n",
      "* To create a public link, set `share=True` in `launch()`.\n"
     ]
    },
    {
     "data": {
      "text/html": [
       "<div><iframe src=\"http://127.0.0.1:7861/\" width=\"100%\" height=\"500\" allow=\"autoplay; camera; microphone; clipboard-read; clipboard-write;\" frameborder=\"0\" allowfullscreen></iframe></div>"
      ],
      "text/plain": [
       "<IPython.core.display.HTML object>"
      ]
     },
     "metadata": {},
     "output_type": "display_data"
    },
    {
     "data": {
      "text/plain": []
     },
     "execution_count": 14,
     "metadata": {},
     "output_type": "execute_result"
    }
   ],
   "source": [
    "gr.ChatInterface(chat, type=\"messages\").launch()"
   ]
  },
  {
   "cell_type": "markdown",
   "id": "96cb594f",
   "metadata": {},
   "source": [
    "Multi LLM Pipeline : How can we acheive this without any Agentic Framework.\n",
    "- Ask Another LLM to evaluate answers \n",
    "- If the answer fails the evaluation, we are going to be able to rerun and make second call to gpt-4o-mini\n",
    "- Put everything together into Single workflow"
   ]
  },
  {
   "cell_type": "code",
   "execution_count": 16,
   "id": "782d44c8",
   "metadata": {},
   "outputs": [],
   "source": [
    "# Create a Pydantic model for Evaluation.\n",
    "\n",
    "from pydantic import BaseModel\n",
    "\n",
    "class Evaluation(BaseModel):\n",
    "    is_acceptable: bool\n",
    "    feedback: str"
   ]
  },
  {
   "cell_type": "code",
   "execution_count": 17,
   "id": "668704a2",
   "metadata": {},
   "outputs": [],
   "source": [
    "evaluator_system_prompt = f\"You are an evaluator that decides whether a response to a question is acceptable. \\\n",
    "You are provided with a conversation between a User and an Agent. Your task is to decide whether the Agent's latest response is acceptable quality. \\\n",
    "The Agent is playing the role of Technical Consultant for {name} and is referring the syllabus {data} of {name}'s college . \\\n",
    "The Agent has been instructed to be professional and engaging, as if talking to a potential future developer or who came across the same course of syllabus. \"\n",
    "\n",
    "evaluator_system_prompt += f\"With this context, please evaluate the latest response, replying with whether the response is acceptable and your feedback.\""
   ]
  },
  {
   "cell_type": "code",
   "execution_count": 21,
   "id": "a5b1bff2",
   "metadata": {},
   "outputs": [],
   "source": [
    "def evaluator_user_prompt(reply, message, history):\n",
    "    user_prompt = f\"Here's the conversation between the User and the Agent: \\n\\n {history} \\n\\n\"\n",
    "    user_prompt += f\"Here's the latest message from the User: \\n\\n {message} \\n\\n\"\n",
    "    user_prompt += f\"Here's the latest response from the Agent: \\n\\n {reply} \\n\\n\"\n",
    "    user_prompt += f\"Please evaluate the response, replying with whether it is acceptable and your feedback.\"\n",
    "\n",
    "    return user_prompt"
   ]
  },
  {
   "cell_type": "code",
   "execution_count": 22,
   "id": "1dee0dc4",
   "metadata": {},
   "outputs": [],
   "source": [
    "# Will use Gemini as a Evaluator\n",
    "\n",
    "import os\n",
    "gemini = OpenAI(\n",
    "    api_key = os.getenv(\"GEMINI_API_KEY\"),\n",
    "    base_url=\"https://generativelanguage.googleapis.com/v1beta/openai/\"\n",
    "\n",
    ")"
   ]
  },
  {
   "cell_type": "code",
   "execution_count": null,
   "id": "492ef944",
   "metadata": {},
   "outputs": [],
   "source": [
    "# Evaluate with Structured output, where it will return the Evaluation object\n",
    "# Note the way to call the api with structured output (.parse)\n",
    "\n",
    "def evaluate(reply, message, history) -> Evaluation:\n",
    "    messages = [{\"role\": \"system\", \"content\": evaluator_system_prompt}] + [{\"role\": \"user\", \"content\": evaluator_user_prompt(reply, message, history)}]\n",
    "    response = gemini.beta.chat.completions.parse(model=\"gemini-2.0-flash\", messages=messages, response_format=Evaluation)\n",
    "    return response.choices[0].message.parsed"
   ]
  },
  {
   "cell_type": "code",
   "execution_count": 24,
   "id": "1d3acda4",
   "metadata": {},
   "outputs": [],
   "source": [
    "messages = [{\"role\":\"system\", \"content\":system_prompt}] + [{\"role\": \"user\", \"content\": \"what the course is about?\"}]\n",
    "response = openai.chat.completions.create(model = \"gpt-4o-mini\", messages = messages)\n",
    "reply = response.choices[0].message.content"
   ]
  },
  {
   "cell_type": "code",
   "execution_count": 25,
   "id": "a3958a43",
   "metadata": {},
   "outputs": [
    {
     "data": {
      "text/plain": [
       "\"The course is centered around preparing individuals for the Google Cloud Certified Professional Cloud Architect certification. This certification enables professionals to design, develop, and manage robust cloud solutions utilizing Google Cloud technologies effectively. \\n\\nHere are some key aspects of the course:\\n\\n1. **Cloud Architecture Design:** It covers the principles of designing cloud solutions that meet both business and technical requirements. This includes understanding cost optimization, application design support, integration with external systems, as well as high availability, scalability, and performance considerations.\\n\\n2. **Infrastructure Management:** The course teaches how to manage and provision solution infrastructures, including configuring network topologies, storage systems, and compute resources. You will also learn about hybrid networking and multicloud environments.\\n\\n3. **Security and Compliance:** A significant focus is placed on designing solutions with security in mind. Topics include identity and access management, data security, compliance with industry regulations, and ensuring robust security controls.\\n\\n4. **Technical and Business Process Optimization:** Participants will analyze and define both technical and business processes, including software development life cycles, change management, and cost optimization strategies.\\n\\n5. **Implementation Management:** You'll learn how to advise development and operations teams for successful deployments and how to interact programmatically with Google Cloud resources.\\n\\n6. **Reliability Assurance:** The course addresses how to ensure the reliability of solutions in production environments, covering monitoring, logging, quality control, and operational support.\\n\\nOverall, this course aims to equip you with the knowledge and skills necessary to effectively leverage Google Cloud technologies and prepare you for a career as a cloud architect. If you’re considering a future in cloud computing, this course is an excellent step towards that goal.\""
      ]
     },
     "execution_count": 25,
     "metadata": {},
     "output_type": "execute_result"
    }
   ],
   "source": [
    "reply"
   ]
  },
  {
   "cell_type": "code",
   "execution_count": 26,
   "id": "6f57c37d",
   "metadata": {},
   "outputs": [
    {
     "data": {
      "text/plain": [
       "Evaluation(is_acceptable=True, feedback=\"The agent's response is of acceptable quality. It accurately describes the course content, covering key aspects such as cloud architecture design, infrastructure management, security, process optimization, implementation management, and reliability assurance. The response is well-organized, provides clear explanations, and aligns with the information provided in the syllabus. Additionally, the response maintains a professional and engaging tone, making it suitable for a technical consultant interacting with a student or potential developer.\")"
      ]
     },
     "execution_count": 26,
     "metadata": {},
     "output_type": "execute_result"
    }
   ],
   "source": [
    "evaluate(reply, \"what the course is about?\", messages)"
   ]
  },
  {
   "cell_type": "code",
   "execution_count": 28,
   "id": "b8447b16",
   "metadata": {},
   "outputs": [
    {
     "data": {
      "text/plain": [
       "Evaluation(is_acceptable=True, feedback='The agent provided a response that accurately describes the course and is helpful to the user. The information given is on point and is derived from the context syllabus.')"
      ]
     },
     "execution_count": 28,
     "metadata": {},
     "output_type": "execute_result"
    }
   ],
   "source": [
    "evaluate(reply, \"what the course is about?\", messages[:1])\n"
   ]
  },
  {
   "cell_type": "code",
   "execution_count": 29,
   "id": "f97c96f1",
   "metadata": {},
   "outputs": [],
   "source": [
    "# If the evaluator (Gemini model) says that the answer was not acceptable, then need to rerun\n",
    "def rerun(reply, message, history, feedback):\n",
    "    updated_system_prompt = system_prompt + f\"\\n\\n## Previous answer rejected\\nYou just tried to reply, but the quality control rejected your reply\\n\"\n",
    "    updated_system_prompt += f\"## Your attempted answer:\\n{reply}\\n\\n\"\n",
    "    updated_system_prompt += f\"## Reason for rejection:\\n{feedback}\\n\\n\"\n",
    "    messages = [{\"role\": \"system\", \"content\": updated_system_prompt}] + history + [{\"role\": \"user\", \"content\": message}]\n",
    "    response = openai.chat.completions.create(model=\"gpt-4o-mini\", messages=messages)\n",
    "    return response.choices[0].message.content"
   ]
  },
  {
   "cell_type": "code",
   "execution_count": 33,
   "id": "adabd90a",
   "metadata": {},
   "outputs": [],
   "source": [
    "# The Complete Workflow\n",
    "def chat(message, history):\n",
    "    system = system_prompt\n",
    "    messages = [{\"role\": \"system\", \"content\":system}] + history + [{\"role\": \"user\", \"content\": message}]\n",
    "    response = openai.chat.completions.create(model=\"gpt-4o-mini\", messages=messages)\n",
    "    reply = response.choices[0].message.content\n",
    "\n",
    "    evaluation = evaluate(reply, message, history)\n",
    "    if evaluation.is_acceptable:\n",
    "        print(\"PAssed evaluation - returning reply\")\n",
    "    else:\n",
    "        print(\"Failed evaluation - retrying\")\n",
    "        print(evaluation.feedback)\n",
    "        reply = rerun(reply, message, history, evaluation.feedback)\n",
    "    return reply"
   ]
  },
  {
   "cell_type": "code",
   "execution_count": null,
   "id": "61a8015f",
   "metadata": {},
   "outputs": [
    {
     "name": "stdout",
     "output_type": "stream",
     "text": [
      "* Running on local URL:  http://127.0.0.1:7862\n",
      "* To create a public link, set `share=True` in `launch()`.\n"
     ]
    },
    {
     "data": {
      "text/html": [
       "<div><iframe src=\"http://127.0.0.1:7862/\" width=\"100%\" height=\"500\" allow=\"autoplay; camera; microphone; clipboard-read; clipboard-write;\" frameborder=\"0\" allowfullscreen></iframe></div>"
      ],
      "text/plain": [
       "<IPython.core.display.HTML object>"
      ]
     },
     "metadata": {},
     "output_type": "display_data"
    },
    {
     "data": {
      "text/plain": []
     },
     "execution_count": 34,
     "metadata": {},
     "output_type": "execute_result"
    },
    {
     "name": "stdout",
     "output_type": "stream",
     "text": [
      "PAssed evaluation - returning reply\n",
      "PAssed evaluation - returning reply\n",
      "PAssed evaluation - returning reply\n",
      "Failed evaluation - retrying\n",
      "The agent has been playing a role of a Technical Consultant and should not be generating any joke in the conversation. The agent should stick to its role.\n"
     ]
    }
   ],
   "source": [
    "gr.ChatInterface(chat, type=\"messages\").launch()"
   ]
  },
  {
   "cell_type": "code",
   "execution_count": null,
   "id": "a2f0ce1d",
   "metadata": {},
   "outputs": [],
   "source": []
  }
 ],
 "metadata": {
  "kernelspec": {
   "display_name": ".venv",
   "language": "python",
   "name": "python3"
  },
  "language_info": {
   "codemirror_mode": {
    "name": "ipython",
    "version": 3
   },
   "file_extension": ".py",
   "mimetype": "text/x-python",
   "name": "python",
   "nbconvert_exporter": "python",
   "pygments_lexer": "ipython3",
   "version": "3.12.6"
  }
 },
 "nbformat": 4,
 "nbformat_minor": 5
}
