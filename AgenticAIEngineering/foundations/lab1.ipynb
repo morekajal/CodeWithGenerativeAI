{
 "cells": [
  {
   "cell_type": "code",
   "execution_count": 1,
   "id": "fdd06608",
   "metadata": {},
   "outputs": [],
   "source": [
    "from dotenv import load_dotenv"
   ]
  },
  {
   "cell_type": "code",
   "execution_count": 2,
   "id": "38c14ba8",
   "metadata": {},
   "outputs": [
    {
     "data": {
      "text/plain": [
       "True"
      ]
     },
     "execution_count": 2,
     "metadata": {},
     "output_type": "execute_result"
    }
   ],
   "source": [
    "load_dotenv(override=True)"
   ]
  },
  {
   "cell_type": "code",
   "execution_count": 3,
   "id": "135576bd",
   "metadata": {},
   "outputs": [
    {
     "name": "stdout",
     "output_type": "stream",
     "text": [
      "OpenAI API Key exists.\n"
     ]
    }
   ],
   "source": [
    "import os\n",
    "openai_api_key = os.getenv('OPENAI_API_KEY')\n",
    "\n",
    "if openai_api_key:\n",
    "    print(f\"OpenAI API Key exists.\")\n",
    "else:\n",
    "    print(\"OpenaAI API Key Not Set.\")"
   ]
  },
  {
   "cell_type": "code",
   "execution_count": 4,
   "id": "d21bf121",
   "metadata": {},
   "outputs": [],
   "source": [
    "from openai import OpenAI"
   ]
  },
  {
   "cell_type": "code",
   "execution_count": 5,
   "id": "70c9e1b2",
   "metadata": {},
   "outputs": [],
   "source": [
    "# create instance of the OpenAI class\n",
    "openai = OpenAI()"
   ]
  },
  {
   "cell_type": "code",
   "execution_count": 6,
   "id": "76800fc1",
   "metadata": {},
   "outputs": [],
   "source": [
    "messages = [{\"role\":\"user\", \"content\":\"What is capital of India?\"}]"
   ]
  },
  {
   "cell_type": "code",
   "execution_count": 7,
   "id": "b62a0eb9",
   "metadata": {},
   "outputs": [],
   "source": [
    "response = openai.chat.completions.create(\n",
    "    model = \"gpt-4o-mini\",\n",
    "    messages=messages\n",
    ")"
   ]
  },
  {
   "cell_type": "code",
   "execution_count": 8,
   "id": "8e391798",
   "metadata": {},
   "outputs": [
    {
     "name": "stdout",
     "output_type": "stream",
     "text": [
      "The capital of India is New Delhi.\n"
     ]
    }
   ],
   "source": [
    "print(response.choices[0].message.content)"
   ]
  },
  {
   "cell_type": "code",
   "execution_count": 9,
   "id": "8c67ef52",
   "metadata": {},
   "outputs": [],
   "source": [
    "question = \"Please propose a hard, challenging question to assess someone's IQ. Respond only with the question.\"\n",
    "messages = [{\"role\":\"user\", \"content\":question}]"
   ]
  },
  {
   "cell_type": "code",
   "execution_count": 10,
   "id": "e2303b85",
   "metadata": {},
   "outputs": [],
   "source": [
    "response = openai.chat.completions.create(\n",
    "    model=\"gpt-4o-mini\"\n",
    ",\n",
    "messages=messages)"
   ]
  },
  {
   "cell_type": "code",
   "execution_count": 11,
   "id": "b5b3e699",
   "metadata": {},
   "outputs": [
    {
     "name": "stdout",
     "output_type": "stream",
     "text": [
      "Here is a question to assess your IQ :  If a clock shows the time as 3:15, what is the angle between the hour and minute hands?\n"
     ]
    }
   ],
   "source": [
    "question = response.choices[0].message.content\n",
    "print(\"Here is a question to assess your IQ : \", question)"
   ]
  },
  {
   "cell_type": "code",
   "execution_count": 12,
   "id": "b221b207",
   "metadata": {},
   "outputs": [],
   "source": [
    "# now lets make another call to openai to cross check your answer\n",
    "messages = [{\"role\":\"user\", \"content\":question}]\n"
   ]
  },
  {
   "cell_type": "code",
   "execution_count": 13,
   "id": "6fc440fb",
   "metadata": {},
   "outputs": [
    {
     "name": "stdout",
     "output_type": "stream",
     "text": [
      "To calculate the angle between the hour and minute hands of a clock showing 3:15, we can follow these steps:\n",
      "\n",
      "1. **Calculate the position of the minute hand:**\n",
      "   The minute hand moves 360 degrees in 60 minutes. Therefore, at 15 minutes, the minute hand's position is:\n",
      "   \\[\n",
      "   \\text{Minute angle} = \\left(\\frac{15}{60}\\right) \\times 360 = 90 \\text{ degrees}\n",
      "   \\]\n",
      "\n",
      "2. **Calculate the position of the hour hand:**\n",
      "   The hour hand moves 360 degrees in 12 hours, so it moves 30 degrees per hour. At 3 o'clock, the hour hand is at:\n",
      "   \\[\n",
      "   3 \\times 30 = 90 \\text{ degrees}\n",
      "   \\]\n",
      "   Additionally, for every minute, the hour hand moves further. It moves 0.5 degrees per minute (since \\(30 \\text{ degrees} / 60 \\text{ minutes} = 0.5\\)). Therefore, at 15 minutes past 3:\n",
      "   \\[\n",
      "   \\text{Additional hour hand movement} = 15 \\times 0.5 = 7.5 \\text{ degrees}\n",
      "   \\]\n",
      "   Thus, the position of the hour hand at 3:15 is:\n",
      "   \\[\n",
      "   90 + 7.5 = 97.5 \\text{ degrees}\n",
      "   \\]\n",
      "\n",
      "3. **Calculate the angle between the hour and minute hands:**\n",
      "   Now we find the difference between the two angles:\n",
      "   \\[\n",
      "   \\text{Angle} = |97.5 - 90| = 7.5 \\text{ degrees}\n",
      "   \\]\n",
      "\n",
      "Thus, the angle between the hour and minute hands at 3:15 is **7.5 degrees**.\n"
     ]
    }
   ],
   "source": [
    "response = openai.chat.completions.create(\n",
    "    model=\"gpt-4o-mini\"\n",
    ",\n",
    "messages=messages)\n",
    "\n",
    "answer = response.choices[0].message.content\n",
    "print(answer)"
   ]
  },
  {
   "cell_type": "code",
   "execution_count": 14,
   "id": "adf50a3b",
   "metadata": {},
   "outputs": [
    {
     "data": {
      "text/markdown": [
       "To calculate the angle between the hour and minute hands of a clock showing 3:15, we can follow these steps:\n",
       "\n",
       "1. **Calculate the position of the minute hand:**\n",
       "   The minute hand moves 360 degrees in 60 minutes. Therefore, at 15 minutes, the minute hand's position is:\n",
       "   \\[\n",
       "   \\text{Minute angle} = \\left(\\frac{15}{60}\\right) \\times 360 = 90 \\text{ degrees}\n",
       "   \\]\n",
       "\n",
       "2. **Calculate the position of the hour hand:**\n",
       "   The hour hand moves 360 degrees in 12 hours, so it moves 30 degrees per hour. At 3 o'clock, the hour hand is at:\n",
       "   \\[\n",
       "   3 \\times 30 = 90 \\text{ degrees}\n",
       "   \\]\n",
       "   Additionally, for every minute, the hour hand moves further. It moves 0.5 degrees per minute (since \\(30 \\text{ degrees} / 60 \\text{ minutes} = 0.5\\)). Therefore, at 15 minutes past 3:\n",
       "   \\[\n",
       "   \\text{Additional hour hand movement} = 15 \\times 0.5 = 7.5 \\text{ degrees}\n",
       "   \\]\n",
       "   Thus, the position of the hour hand at 3:15 is:\n",
       "   \\[\n",
       "   90 + 7.5 = 97.5 \\text{ degrees}\n",
       "   \\]\n",
       "\n",
       "3. **Calculate the angle between the hour and minute hands:**\n",
       "   Now we find the difference between the two angles:\n",
       "   \\[\n",
       "   \\text{Angle} = |97.5 - 90| = 7.5 \\text{ degrees}\n",
       "   \\]\n",
       "\n",
       "Thus, the angle between the hour and minute hands at 3:15 is **7.5 degrees**."
      ],
      "text/plain": [
       "<IPython.core.display.Markdown object>"
      ]
     },
     "metadata": {},
     "output_type": "display_data"
    }
   ],
   "source": [
    "from IPython.display import Markdown, display\n",
    "display(Markdown(answer))"
   ]
  },
  {
   "cell_type": "markdown",
   "id": "b1f269d4",
   "metadata": {},
   "source": [
    "#### Exercise\n",
    "- Now try this commercial application:\n",
    "- First ask the LLM to pick a business area that might be worth exploring for an Agentic AI opportunity.\n",
    "- Then ask the LLM to present a pain-point in that industry - something challenging that might be ripe for an Agentic solution.\n",
    "- Finally have 3 third LLM call propose the Agentic AI solution."
   ]
  },
  {
   "cell_type": "code",
   "execution_count": 15,
   "id": "0f88fd48",
   "metadata": {},
   "outputs": [],
   "source": [
    "# First create the messages:\n",
    "\n",
    "messages = [{\"role\": \"user\", \"content\": \"You are a AI Agent developer, give it a brainstorm to pick a business area that might be worth exploring for an agentic ai opportunity.\"}]\n",
    "\n",
    "# Then make the first call:\n",
    "\n",
    "response = openai.chat.completions.create(\n",
    "    model = \"gpt-4o-mini\",\n",
    "    messages = messages\n",
    ")\n"
   ]
  },
  {
   "cell_type": "code",
   "execution_count": null,
   "id": "a4af636d",
   "metadata": {},
   "outputs": [
    {
     "name": "stdout",
     "output_type": "stream",
     "text": [
      "I think it would be great to explore the following area :  Certainly! Here’s a brainstormed list of business areas worth exploring for agentic AI opportunities:\n",
      "\n",
      "1. **Healthcare Assistance**:\n",
      "   - Personalized health monitoring and management.\n",
      "   - Virtual health assistants for appointment scheduling and patient triage.\n",
      "   - AI for mental health support with natural language processing (NLP) for therapy or chatbots.\n",
      "\n",
      "2. **E-commerce & Retail**:\n",
      "   - Intelligent product recommendations based on user behavior and preferences.\n",
      "   - AI-driven inventory management optimizations.\n",
      "   - Virtual shopping assistants that enhance customer experience through personalization.\n",
      "\n",
      "3. **Financial Services**:\n",
      "   - Automated financial advisory services and personalized investment strategies.\n",
      "   - Fraud detection and risk assessment through machine learning algorithms.\n",
      "   - Assistive AI for budgeting and expense tracking using real-time data analysis.\n",
      "\n",
      "4. **Education & E-Learning**:\n",
      "   - Intelligent tutoring systems that adapt to individual learning styles.\n",
      "   - AI-driven career counseling based on student skills and market trends.\n",
      "   - Administrative AI agents to streamline admissions and student services.\n",
      "\n",
      "5. **Real Estate & Property Management**:\n",
      "   - Virtual agents for property viewing and customer inquiries.\n",
      "   - Predictive analytics for property valuation and investment opportunities.\n",
      "   - Tenant interaction and maintenance management through chatbots.\n",
      "\n",
      "6. **Travel & Hospitality**:\n",
      "   - Personalized itinerary planning and booking assistance.\n",
      "   - AI-powered customer service for hotel bookings and ticketing.\n",
      "   - Virtual travel guides that utilize real-time data for recommendations.\n",
      "\n",
      "7. **Manufacturing & Supply Chain**:\n",
      "   - Process optimization agents for production efficiencies.\n",
      "   - Predictive maintenance AI to minimize downtime and maintenance costs.\n",
      "   - Smart supply chain management using AI for demand forecasting.\n",
      "\n",
      "8. **Legal Services**:\n",
      "   - Document review and contract analysis using NLP.\n",
      "   - AI chatbots for initial client consultations and legal advice.\n",
      "   - Predictive analytics for case outcomes based on historical data.\n",
      "\n",
      "9. **Human Resources & Recruitment**:\n",
      "   - Automated candidate screening and interview scheduling.\n",
      "   - Person-Culture fit analysis using AI algorithms.\n",
      "   - Onboarding processes automated through interactive virtual agents.\n",
      "\n",
      "10. **Personal Development & Productivity**:\n",
      "    - AI personal assistants tailored for work-life balance coaching.\n",
      "    - Productivity tracking and improvement suggestions based on user habits.\n",
      "    - AI-driven goal setting and achievement monitoring systems.\n",
      "\n",
      "11. **Smart Home and IoT Integration**:\n",
      "    - Home automation systems with intuitive natural language interfaces.\n",
      "    - Security agents that monitor and respond to unusual activities.\n",
      "    - Energy management systems that optimize usage based on user patterns.\n",
      "\n",
      "12. **Sustainability & Environmental Monitoring**:\n",
      "    - AI for tracking and managing energy consumption in homes and businesses.\n",
      "    - Agents focused on waste reduction and recycling management.\n",
      "    - Predictive models for environmental impact assessments.\n",
      "\n",
      "Exploring agentic AI opportunities in these areas could yield innovative solutions that enhance efficiency, personalization, and overall user experiences. Each of these fields presents unique challenges and opportunities for an agentic AI to create value.\n"
     ]
    }
   ],
   "source": [
    "\n",
    "# Then read the business idea:\n",
    "\n",
    "business_idea = response.choices[0].message.content\n",
    "\n",
    "print(\"I think it would be great to explore the following area : \", business_idea)"
   ]
  },
  {
   "cell_type": "code",
   "execution_count": 21,
   "id": "ede7bd2d",
   "metadata": {},
   "outputs": [],
   "source": [
    "idea = \"AI-driven career counseling based on student skills and market trends.\"\n",
    "\n",
    "messages = [\n",
    "    {\n",
    "        \"role\": \"user\",\n",
    "        \"content\": f\"You are an AI Agent developer. You have chosen the following idea as your business area: '{idea}'. What are the pain-points in that industry — especially those that might be ripe for an Agentic (AI-agent based) solution?\"\n",
    "    }\n",
    "]\n",
    "\n",
    "response = openai.chat.completions.create(\n",
    "    model=\"gpt-4o-mini\",\n",
    "    messages=messages\n",
    ")\n"
   ]
  },
  {
   "cell_type": "code",
   "execution_count": 22,
   "id": "ae33fc31",
   "metadata": {},
   "outputs": [],
   "source": [
    "pain_point = response.choices[0].message.content"
   ]
  },
  {
   "cell_type": "code",
   "execution_count": 23,
   "id": "181d62ee",
   "metadata": {},
   "outputs": [
    {
     "name": "stdout",
     "output_type": "stream",
     "text": [
      "In the domain of AI-driven career counseling focused on student skills and market trends, several pain points exist that could be addressed with Agentic solutions. Here are key pain points and potential avenues for AI agents:\n",
      "\n",
      "1. **Information Overload**: Students often face an overwhelming amount of information regarding career options, required skills, and educational pathways. An AI agent can curate personalized information based on individual skills, goals, and market trends to simplify decision-making.\n",
      "\n",
      "2. **Lack of Personalization**: Career guidance often follows a one-size-fits-all approach. An AI agent can analyze a student's unique skill set, interests, and personality traits to offer tailored career advice and learning opportunities.\n",
      "\n",
      "3. **Dynamic Job Market**: The job market is continually evolving due to technological advancements and economic shifts. An AI agent can continuously analyze real-time data on job trends, emerging industries, and skill demands to provide up-to-date counseling.\n",
      "\n",
      "4. **Skill Gap Identification**: Many students are unaware of the specific skills they need to develop for their desired careers. AI agents can assess current skills, compare them to market requirements, and suggest targeted learning resources or courses to bridge those gaps.\n",
      "\n",
      "5. **Accessibility of Resources**: Many students lack easy access to quality resources or mentorship. An AI agent can provide 24/7 support, connecting students with online learning materials, simulations, or even virtual mentors tailored to their aspirations.\n",
      "\n",
      "6. **Decision Fatigue**: Students often grapple with multiple career options, leading to decision fatigue. An AI agent can help break down choices, simulate potential career paths, and assist in evaluating the potential outcomes of various options.\n",
      "\n",
      "7. **Networking Opportunities**: Building a professional network is crucial but difficult for students. An AI agent can analyze students' profiles and suggest networking opportunities, internships, and mentorship programs relevant to their aspirations.\n",
      "\n",
      "8. **Emotional Support**: Career decision-making can be stressful. AI agents can incorporate conversational AI to provide emotional support, guidance during the decision-making process, and even mindfulness resources to help manage anxiety.\n",
      "\n",
      "9. **Emerging Career Paths**: New career paths continuously emerge, especially in tech and innovation sectors. AI agents can stay abreast of these trends and inform students about less traditional but lucrative options they may not have considered.\n",
      "\n",
      "10. **Evaluation of Learning Impact**: Students may struggle to assess the effectiveness of their education or training related to career readiness. AI agents can track students' progress and outcomes, providing analytics to help refine their learning pathway.\n",
      "\n",
      "11. **Parental Involvement**: Parents often influence students’ career choices but may lack updated information or understanding of market expectations. AI agents can provide interactive tools for both students and parents to facilitate informed discussions.\n",
      "\n",
      "By focusing on these pain points, an AI-driven career counseling platform can offer significant value to students navigating their educational and career choices, while also addressing the challenges faced by educational institutions and employers in understanding and responding to evolving skill demands.\n"
     ]
    }
   ],
   "source": [
    "print(pain_point)"
   ]
  },
  {
   "cell_type": "code",
   "execution_count": null,
   "id": "f958023e",
   "metadata": {},
   "outputs": [],
   "source": []
  }
 ],
 "metadata": {
  "kernelspec": {
   "display_name": ".venv",
   "language": "python",
   "name": "python3"
  },
  "language_info": {
   "codemirror_mode": {
    "name": "ipython",
    "version": 3
   },
   "file_extension": ".py",
   "mimetype": "text/x-python",
   "name": "python",
   "nbconvert_exporter": "python",
   "pygments_lexer": "ipython3",
   "version": "3.12.6"
  }
 },
 "nbformat": 4,
 "nbformat_minor": 5
}
