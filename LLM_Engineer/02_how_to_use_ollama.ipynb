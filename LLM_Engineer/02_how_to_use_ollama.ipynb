{
 "cells": [
  {
   "cell_type": "markdown",
   "metadata": {},
   "source": [
    "Will try to use Ollama locally to build the same Webpage Summarizer instead of calling OpenAI API"
   ]
  },
  {
   "cell_type": "code",
   "execution_count": 1,
   "metadata": {},
   "outputs": [],
   "source": [
    "import requests\n",
    "from bs4 import BeautifulSoup\n",
    "from IPython.display import Markdown, display"
   ]
  },
  {
   "cell_type": "code",
   "execution_count": 2,
   "metadata": {},
   "outputs": [],
   "source": [
    "# Constants\n",
    "\n",
    "OLLAMA_API = \"http://localhost:11434/api/chat\"\n",
    "HEADERS = {\"Content-Type\": \"application/json\"}\n",
    "MODEL = \"llama3.2\""
   ]
  },
  {
   "cell_type": "code",
   "execution_count": 3,
   "metadata": {},
   "outputs": [],
   "source": [
    "messages = [\n",
    "    {\"role\":\"user\", \"content\":\"Describe Pillars of Indian Constitution\"}\n",
    "]"
   ]
  },
  {
   "cell_type": "code",
   "execution_count": 4,
   "metadata": {},
   "outputs": [],
   "source": [
    "payload = {\n",
    "    \"model\" : MODEL,\n",
    "    \"messages\": messages,\n",
    "    \"stream\" : False\n",
    "}"
   ]
  },
  {
   "cell_type": "code",
   "execution_count": 5,
   "metadata": {},
   "outputs": [
    {
     "name": "stdout",
     "output_type": "stream",
     "text": [
      "The pillars of the Indian Constitution are a crucial framework that provides a foundation for the country's governance, ensuring the protection and promotion of its citizens' rights and freedoms. The four main pillars of the Indian Constitution are:\n",
      "\n",
      "1. **Legislative (Parliament)**: This pillar is responsible for making laws and policies for the country. It consists of three branches:\n",
      " * The Lok Sabha (Lower House): Elected by the people through direct elections.\n",
      " * The Rajya Sabha (Upper House): Elected by the state legislatures through indirect elections.\n",
      "\n",
      "The Parliament has the power to pass laws, approve or reject bills, and exercise parliamentary privilege.\n",
      "\n",
      "2. **Executive (Cabinet)**: This pillar is headed by the President of India, who is elected through indirect elections by an electoral college consisting of the Governors of States, the Lieutenant Governors of Union Territories, and other constitutional heads. The President appoints a Prime Minister, who is usually the leader of the majority party or coalition in Parliament.\n",
      "\n",
      "The Cabinet, led by the Prime Minister, is responsible for executing laws and policies, advising the President on key matters, and overseeing the administration of the country.\n",
      "\n",
      "3. **Judicial (Supreme Court)**: This pillar is independent and impartial, ensuring that the rule of law is upheld and justice is served. The Supreme Court has the power to interpret the Constitution, adjudicate disputes between individuals or groups, and review laws passed by Parliament.\n",
      "\n",
      "The Supreme Court is the highest court in India, with the ability to review all decisions made by lower courts, as well as those made by administrative bodies.\n",
      "\n",
      "4. **Fundamental Rights (Constitutional Rights)**: This pillar guarantees fundamental rights to Indian citizens, including:\n",
      " * Equality before the law\n",
      " * Freedom of speech and expression\n",
      " * Right to life and liberty\n",
      " * Right to vote and be elected\n",
      " * Freedom from exploitation\n",
      "\n",
      "These rights are enshrined in Part III of the Constitution and cannot be taken away by Parliament.\n",
      "\n",
      "In addition to these four pillars, there is also a fifth pillar:\n",
      "\n",
      "5. **Accountability (Independent Commissions)**: This pillar ensures that certain institutions and decisions are independent and accountable. Examples include:\n",
      " * The Election Commission\n",
      " * The Lokpal (Anti-Corruption Commission)\n",
      " * The Comptroller and Auditor General of India\n",
      "\n",
      "These independent commissions provide checks on the power of other branches of government, ensuring accountability and good governance.\n",
      "\n",
      "In summary, the pillars of the Indian Constitution provide a robust framework for governance, protecting individual rights, promoting democracy, and preventing abuse of power.\n"
     ]
    }
   ],
   "source": [
    "response = requests.post(OLLAMA_API, json=payload, headers=HEADERS)\n",
    "print(response.json()['message']['content'])"
   ]
  },
  {
   "cell_type": "code",
   "execution_count": 6,
   "metadata": {},
   "outputs": [
    {
     "name": "stdout",
     "output_type": "stream",
     "text": [
      "The pillars of the Indian Constitution refer to the fundamental principles, values, and provisions that form the foundation of the country's governing framework. These pillars are essential for the stability, harmony, and prosperity of India. The four main pillars of the Indian Constitution are:\n",
      "\n",
      "1. **Sovereignty**: This pillar refers to the supreme authority and power of the government in a democratic system. It is the basis of the Constitution, which ensures that the government is accountable only to the people.\n",
      "\n",
      "2.**Secularism**: This pillar emphasizes the separation of religion from the state and guarantees freedom of religion, faith, and conscience for all citizens. India is a secular country, where every individual has the right to practice their chosen religion without interference from the state.\n",
      "\n",
      "3. **Democracy**: The democracy pillar ensures that power is held by the people through elected representatives. This principle emphasizes the importance of free and fair elections, protection of fundamental rights, and accountability of the government to the people.\n",
      "\n",
      "4.**Socialism**: The socialism pillar aims to promote economic equality and social justice in India. It seeks to ensure that every individual has access to essential services such as healthcare, education, and employment opportunities.\n",
      "\n",
      "Additionally, there are two other important pillars:\n",
      "\n",
      "5. **Federalism**: This pillar emphasizes the division of power between the Union (federal) government and the state governments. The federal system allows for a balance between central authority and decentralization, promoting regional autonomy and diversity.\n",
      "\n",
      "6.**Individual liberty**: The individual liberty pillar ensures that every citizen has fundamental rights and freedoms, including freedom of speech, expression, assembly, and association. These rights are protected by various provisions in the Constitution, such as Articles 14 to 35.\n",
      "\n",
      "Together, these pillars form the foundation of the Indian Constitution, which provides a framework for governance, social justice, economic development, and individual freedom in India.\n"
     ]
    }
   ],
   "source": [
    "# Another way to use ollama directly with python package ollama.chat\n",
    "import ollama\n",
    "\n",
    "response = ollama.chat(model=MODEL, messages=messages)\n",
    "print(response['message']['content'])"
   ]
  },
  {
   "cell_type": "code",
   "execution_count": null,
   "metadata": {},
   "outputs": [],
   "source": []
  }
 ],
 "metadata": {
  "kernelspec": {
   "display_name": "env",
   "language": "python",
   "name": "python3"
  },
  "language_info": {
   "codemirror_mode": {
    "name": "ipython",
    "version": 3
   },
   "file_extension": ".py",
   "mimetype": "text/x-python",
   "name": "python",
   "nbconvert_exporter": "python",
   "pygments_lexer": "ipython3",
   "version": "3.12.6"
  }
 },
 "nbformat": 4,
 "nbformat_minor": 2
}
