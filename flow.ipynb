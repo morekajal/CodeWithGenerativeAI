{
 "cells": [
  {
   "cell_type": "markdown",
   "metadata": {},
   "source": [
    "- Create openai API key and store it somewhere\n",
    "- pip install openai in the env\n"
   ]
  },
  {
   "cell_type": "markdown",
   "metadata": {},
   "source": [
    "### Chat Log : \n",
    "- To keep track of entire history of our Conversation with our chatbot.\n",
    "- This will allow us to be able to ask questions on questions that we previously asked\n",
    "- helps in building full functioning chatbot\n",
    "- Create empty list to maintain a log : run it over a loop till user stops, keep appending the user prompt into our chatlog, now call openai model instead of static messages pass the chat_log, pull the output response from model and append that response as a assistant prompt within out chatlog"
   ]
  },
  {
   "cell_type": "markdown",
   "metadata": {},
   "source": [
    "### Implement FastAPI into our Application:\n",
    "\n",
    "- fastapi : framework,\n",
    "- uvicorn : server that spins up fast api\n"
   ]
  },
  {
   "cell_type": "markdown",
   "metadata": {},
   "source": [
    "### Adding System Prompt in main to set behaviour of the chatbot"
   ]
  },
  {
   "cell_type": "markdown",
   "metadata": {},
   "source": [
    "### Create User Interface for out chatbot with Jinja2 for our users and clients\n",
    "\n",
    "- pip install aiofiles jinja2\n",
    "- create html file : layout.\n",
    "    - Creates basic HTML file that we will be able to run on the browser\n",
    "    - Prints Welcome in top left corner of browser\n",
    "- Will be implementing new features and CSS to this HTML file\n",
    "\n",
    "- Create new API endpoint that returns this new layout with fast api templates"
   ]
  },
  {
   "cell_type": "markdown",
   "metadata": {},
   "source": [
    "### Setup our application with Bootstrap CSS\n",
    " - https://getbootstrap.com/docs/5.0/getting-started/introduction/ - look around Starter template and to layout.html\n",
    " - inject layout.html inside home.html : {%include 'layout.html'  %}\n"
   ]
  },
  {
   "cell_type": "markdown",
   "metadata": {},
   "source": [
    "### Implement Chat Response \n",
    "- will add response class to POST method\n",
    "- pass user_input as arg while defining the chat method\n",
    "- append the chat response\n",
    "- Add Jinja2 implementation in home.html to start a for loop and print the response\n",
    "- To show chat_responses over home template, will be adding jinja2 template in home.html [inside <div> card-body] to have list of chat from user_input and bot_response "
   ]
  },
  {
   "cell_type": "markdown",
   "metadata": {},
   "source": [
    "### Add navigation bar on out UI\n",
    " - navbar.html\n",
    " - inject this navbar into layouts.html\n",
    " "
   ]
  },
  {
   "cell_type": "markdown",
   "metadata": {},
   "source": [
    "### Image Generation with OpenAI:\n",
    "- sample image generation with openai Dall-E model\n",
    "- Add new GET method in our Fastapi to image generation capability to our chatbot application UI with image.html file \n",
    "- add POST method to take input as text from user and generate image\n",
    "- Add separate buttons on Navigation bar to switch between chat and image generation"
   ]
  },
  {
   "cell_type": "markdown",
   "metadata": {},
   "source": [
    "### Intermediate Changes to make a Professional Chatbot"
   ]
  },
  {
   "cell_type": "markdown",
   "metadata": {},
   "source": [
    "1. Add Real time streaming capabilities using WebSockets\n",
    "2. New JavaScript to connect to WebSocket\n",
    "3. New CSS to make chatbot look even more professional."
   ]
  },
  {
   "cell_type": "markdown",
   "metadata": {},
   "source": [
    "- Websocket : Its an API that allows a two-way interactive communication between the user's browser and server.\n",
    "- When using a WebSocket you can send and receive messages based on actual events without having to pull the server\n",
    "- We will get real time communication between the server and front end\n",
    "- Unlike traditional HTTP requests WebSockets use bi-directional communication\n",
    "- In general when we give prompt to some LLM model, we need to wait for few seconds to get the response (as it gives response in one go) but with WebSocket, we will get response piece by piece immediately after we pass the input prompt\n",
    "- WebSockets to work - we need to implement JavaScript - Its a High-level interpreted pragramming language that runs on the client.\n",
    "- It allows us to add interactivity to the web pages we are creating for our chatbot\n",
    "- JavaScript is used for two main purposes:\n",
    "    - Create connection to our FastAPI WebSocket from our web page\n",
    "    - Be able to dynamically change functionality on our web page.\n",
    "\n"
   ]
  },
  {
   "cell_type": "markdown",
   "metadata": {},
   "source": [
    "CSS : Cascading Style Sheets\n",
    "- used for structure and laying out web pages\n",
    "- Popular for : \n",
    "    - Adjusting size, color, spacing and font\n",
    "    - Improve accessibility and flexibility"
   ]
  },
  {
   "cell_type": "code",
   "execution_count": null,
   "metadata": {},
   "outputs": [],
   "source": [
    "from fastapi import WebSocket\n",
    "## Add WebSocket API\n",
    "@app.websocket(\"/ws\")\n",
    "async def chat(websocket: WebSocket):\n",
    "    await websocket.accept()                            # establishes connection between server and client\n",
    "    while True:\n",
    "        user_input = await websocket.receive_text()     # user input is whatever the websocket receives\n",
    "        await websocket.send_text(user_input)"
   ]
  },
  {
   "cell_type": "markdown",
   "metadata": {},
   "source": [
    "- What changes we need to make to home.html file in order to introduce WebSocket\n",
    "1. Add id=chatHistory to populate websocket data\n",
    "2. Add some JavaScript for Web and WebSocket connection for real time\n",
    "    -  Websockets will keep a connection the entire time to web\n",
    "3. will not use form anymore instead div"
   ]
  },
  {
   "cell_type": "markdown",
   "metadata": {},
   "source": [
    "##### By this we we were able to do live streaming of user input, means keeping the websocket alive while we are continuously sending user input.\n",
    "##### Now to generate response we need to connect the websocket with openai to implement real time data streaming"
   ]
  },
  {
   "cell_type": "markdown",
   "metadata": {},
   "source": [
    "#### WebSocket Real Time Streaming:\n",
    "- We need to set a parameter inside openai.chat.completions as stream=True\n",
    "- And a piece of code in websocket api to pass the response in chunks so that we can have piece by piece response as a live streaming\n",
    "- append the response in ai_response\n",
    "\n"
   ]
  },
  {
   "cell_type": "markdown",
   "metadata": {},
   "source": [
    "- To solve an issue of having words on every new line like : {\n",
    "        - Read\n",
    "        - ability\n",
    "        - and\n",
    "        - Sim\n",
    "        - plic\n",
    "        - ity\n",
    "        }\n",
    "- w.r.t home.html we will also change some Javascript script/ logic"
   ]
  },
  {
   "cell_type": "markdown",
   "metadata": {},
   "source": [
    "### With the above updations till now we are able to get live streaming response from our chatbot piece by piece.\n",
    "- Now will do some CSS updations to professionally improve our chatbot UI (As the Bootstrap CSS which we have used does not provide what improvements we want to do in our chatbot, so will add our own style in layout.html)\n",
    "- will push all the content to left for streaming\n",
    "- make messages look cleaner and easier to read\n",
    "- Now will make changes in layout.html\n",
    "- Will also update the home.html to Add chat-history within the class\n",
    "- the chat-history here in  [div class=\"card-body chat-history\"] from home.html : this will grab the css from layout.html from the class .chat-history "
   ]
  },
  {
   "cell_type": "markdown",
   "metadata": {},
   "source": [
    "#### How to retain our chat messages:\n",
    "- If we click away or refresh screen, our previous chat message disappear.\n",
    "- We want to make sure they are retained until the application closes.\n",
    "- We are already saving the chat_responses, we just need to present them on the screen\n",
    "- For this will update home.html by implementing Jinja templating by adding a for loop in class=\"card-body chat-history\""
   ]
  },
  {
   "cell_type": "markdown",
   "metadata": {},
   "source": [
    "#### Update the Navigation Bar to have a dropdown for Chatbot and Image Generator\n",
    "- will update navbar.html\n",
    "- will also enhance the image file to Add container and footer to form in image.html"
   ]
  },
  {
   "cell_type": "markdown",
   "metadata": {},
   "source": []
  }
 ],
 "metadata": {
  "kernelspec": {
   "display_name": "env",
   "language": "python",
   "name": "python3"
  },
  "language_info": {
   "codemirror_mode": {
    "name": "ipython",
    "version": 3
   },
   "file_extension": ".py",
   "mimetype": "text/x-python",
   "name": "python",
   "nbconvert_exporter": "python",
   "pygments_lexer": "ipython3",
   "version": "3.12.6"
  }
 },
 "nbformat": 4,
 "nbformat_minor": 2
}
