{
 "cells": [
  {
   "cell_type": "code",
   "execution_count": 1,
   "metadata": {},
   "outputs": [],
   "source": [
    "import vertexai\n",
    "\n",
    "from vertexai.generative_models import GenerativeModel"
   ]
  },
  {
   "cell_type": "code",
   "execution_count": 2,
   "metadata": {},
   "outputs": [],
   "source": [
    "from vertexai.generative_models import Part"
   ]
  },
  {
   "cell_type": "markdown",
   "metadata": {},
   "source": [
    "https://cloud.google.com/vertex-ai/generative-ai/docs/multimodal/document-understanding#googlegenaisdk_textgen_with_pdf-python_genai_sdk"
   ]
  },
  {
   "cell_type": "code",
   "execution_count": 3,
   "metadata": {},
   "outputs": [],
   "source": [
    "image_file = Part.from_uri(\"gs://cloud-samples-data/generative-ai/image/fruit.png\", mime_type =\"image/png\")"
   ]
  },
  {
   "cell_type": "code",
   "execution_count": 4,
   "metadata": {},
   "outputs": [],
   "source": [
    "model = GenerativeModel(\"gemini-1.5-flash-002\")"
   ]
  },
  {
   "cell_type": "code",
   "execution_count": 6,
   "metadata": {},
   "outputs": [
    {
     "name": "stdout",
     "output_type": "stream",
     "text": [
      "Here's a list of the fruits in the image:\n",
      "\n",
      "* Two strawberries\n",
      "* One peach\n",
      "* One lemon\n"
     ]
    }
   ],
   "source": [
    "response = model.generate_content([image_file, \"list all fruits cintained in an image\"])\n",
    "print(response.text)"
   ]
  },
  {
   "cell_type": "code",
   "execution_count": 7,
   "metadata": {},
   "outputs": [
    {
     "name": "stdout",
     "output_type": "stream",
     "text": [
      "Here's a description of the image:\n",
      "\n",
      "High-angle, close-up view of four pieces of fruit arranged on a wooden surface. \n",
      "\n",
      "\n",
      "The fruits are:\n",
      "\n",
      "* **Two strawberries:** Both are ripe and red, with green leafy tops. They are positioned slightly overlapping each other. One is larger than the other.\n",
      "* **One nectarine (or similar peach):** It's a reddish-pink color, round, and appears very ripe with a slightly darker, purplish hue in the center.\n",
      "* **One lemon:** A bright yellow lemon, smooth-skinned and oval-shaped.\n",
      "\n",
      "The wooden surface is a medium-brown tone with visible wood grain. The lighting is soft and even, casting no harsh shadows on the fruit. The overall arrangement is simple and uncluttered, suggesting a still life setting.\n",
      "\n"
     ]
    }
   ],
   "source": [
    "response = model.generate_content([image_file, \"describe the given image\"])\n",
    "print(response.text)"
   ]
  },
  {
   "cell_type": "markdown",
   "metadata": {},
   "source": [
    "#### Multiple images"
   ]
  },
  {
   "cell_type": "code",
   "execution_count": 8,
   "metadata": {},
   "outputs": [],
   "source": [
    "image_file1 = Part.from_uri(\"gs://cloud-samples-data/generative-ai/image/fruit.png\", mime_type =\"image/png\")\n",
    "image_file2 = Part.from_uri(\"gs://cloud-samples-data/generative-ai/image/cricket.jpeg\", mime_type =\"image/png\")\n"
   ]
  },
  {
   "cell_type": "code",
   "execution_count": 9,
   "metadata": {},
   "outputs": [
    {
     "name": "stdout",
     "output_type": "stream",
     "text": [
      "Here's a description of both images:\n",
      "\n",
      "**Image 1:** This image shows a still life arrangement of fruit on a wooden surface.  Two bright red strawberries, a peach with a reddish blush, and a yellow lemon are positioned slightly apart from each other. The arrangement is simple and visually appealing.\n",
      "\n",
      "**Image 2:** The second image is a dynamic action shot of a cricket match. Two cricket players in white uniforms are shown; one is batting while the other is in a wicket-keeping position.  The focus is on the batter swinging his bat, suggesting a moment of intense gameplay.\n",
      "\n"
     ]
    }
   ],
   "source": [
    "response = model.generate_content([image_file1, image_file2, \"Describe both the images in 2-3 sentence.\"])\n",
    "print(response.text)\n"
   ]
  },
  {
   "cell_type": "markdown",
   "metadata": {},
   "source": [
    "##### The same way we can do video and audio content generation and other operations"
   ]
  },
  {
   "cell_type": "markdown",
   "metadata": {},
   "source": [
    "Lets look at Document Analysis"
   ]
  },
  {
   "cell_type": "code",
   "execution_count": 10,
   "metadata": {},
   "outputs": [
    {
     "name": "stdout",
     "output_type": "stream",
     "text": [
      "This document describes Google BigQuery, a cloud-based, real-time big data analytics service.  Key features include:\n",
      "\n",
      "* **Scalability and Speed:** Handles massive datasets (hundreds of terabytes) with seamless scaling and fast query processing using a familiar SQL-like interface.\n",
      "* **Cost-effectiveness:**  Pay-as-you-go pricing, eliminating upfront hardware and software investments.\n",
      "* **Security and Reliability:**  Data is highly available, replicated across multiple data centers, and protected with multiple layers of security.  Fine-grained access control is available.\n",
      "* **Ease of Use:** Simple UI and REST interface, with integrations for Google Spreadsheets and App Engine.  Client libraries are available in multiple programming languages.\n",
      "* **Applications:** Supports ad hoc reporting, segmentation analysis, monitoring dashboards, and data mashups for various business needs.\n",
      "* **Data Export:**  Allows easy export of data to Google Cloud Storage.\n",
      "\n",
      "The document also highlights customer testimonials emphasizing the service's speed, cost savings, and ease of use.  Finally, it mentions technical support options and a service-level agreement (SLA).\n",
      "\n"
     ]
    }
   ],
   "source": [
    "pdf_file = Part.from_uri(\"gs://cloud-samples-data/generative-ai/pdf/BigQuery.pdf\", \"application/pdf\")\n",
    "\n",
    "res = model.generate_content([pdf_file, \"Summarize the document\"])\n",
    "print(res.text)"
   ]
  },
  {
   "cell_type": "code",
   "execution_count": null,
   "metadata": {},
   "outputs": [],
   "source": []
  }
 ],
 "metadata": {
  "kernelspec": {
   "display_name": "venv",
   "language": "python",
   "name": "python3"
  },
  "language_info": {
   "codemirror_mode": {
    "name": "ipython",
    "version": 3
   },
   "file_extension": ".py",
   "mimetype": "text/x-python",
   "name": "python",
   "nbconvert_exporter": "python",
   "pygments_lexer": "ipython3",
   "version": "3.12.6"
  }
 },
 "nbformat": 4,
 "nbformat_minor": 2
}
