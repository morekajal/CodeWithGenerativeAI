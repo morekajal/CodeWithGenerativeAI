{
 "cells": [
  {
   "cell_type": "code",
   "execution_count": 1,
   "metadata": {},
   "outputs": [],
   "source": [
    "import sys\n",
    "import os\n",
    "sys.path.append(os.path.abspath(\"..\"))\n",
    "import gcp_connect\n"
   ]
  },
  {
   "cell_type": "code",
   "execution_count": 2,
   "metadata": {},
   "outputs": [],
   "source": [
    "# import vertexai\n",
    "import google.generativeai as genai\n",
    "from google.generativeai.types import GenerationConfig\n",
    "from vertexai.preview.generative_models import GenerativeModel"
   ]
  },
  {
   "cell_type": "code",
   "execution_count": 3,
   "metadata": {},
   "outputs": [],
   "source": [
    "model = genai.GenerativeModel(\"gemini-1.5-flash-001\")"
   ]
  },
  {
   "cell_type": "code",
   "execution_count": 4,
   "metadata": {},
   "outputs": [
    {
     "name": "stdout",
     "output_type": "stream",
     "text": [
      "genai.GenerativeModel(\n",
      "    model_name='models/gemini-1.5-flash-001',\n",
      "    generation_config={},\n",
      "    safety_settings={},\n",
      "    tools=None,\n",
      "    system_instruction=None,\n",
      "    cached_content=None\n",
      ")\n"
     ]
    }
   ],
   "source": [
    "print(model)"
   ]
  },
  {
   "cell_type": "code",
   "execution_count": 5,
   "metadata": {},
   "outputs": [
    {
     "name": "stdout",
     "output_type": "stream",
     "text": [
      "The capital of India is **New Delhi**. \n",
      "\n"
     ]
    }
   ],
   "source": [
    "res = model.generate_content(\"What is capital of India?\")\n",
    "print(res.text)"
   ]
  },
  {
   "cell_type": "markdown",
   "metadata": {},
   "source": [
    "### Prompt Engineering"
   ]
  },
  {
   "cell_type": "code",
   "execution_count": 6,
   "metadata": {},
   "outputs": [],
   "source": [
    "normal_prompt = \"\"\"Could you kindly propose an imaginative and captivating name \n",
    "for a charming cafe that specializes in serving ethically sourced, artisanal \n",
    "gourmet coffee? I'm looking for a name that evokes warmth, quality, and a sense of\n",
    "community for a venue where coffee lovers can enjoy both exceptional brews and a \n",
    "welcoming atmosphere.\n",
    "\"\"\"\n",
    "\n",
    "concise_prompt = \"\"\"Suggest a name for a cafe that serves ethically sourced gourmet coffee.\"\"\""
   ]
  },
  {
   "cell_type": "code",
   "execution_count": 11,
   "metadata": {},
   "outputs": [
    {
     "name": "stdout",
     "output_type": "stream",
     "text": [
      "----Lets see what normal prompt yields:\n",
      "## Imaginative and Captivating Cafe Names:\n",
      "\n",
      "**Evoking Warmth & Quality:**\n",
      "\n",
      "* **The Roasted Bean:** Classic, simple, and speaks to the quality of the coffee.\n",
      "* **Ember & Grind:** Suggests the warmth of the coffee and the process of making it.\n",
      "* **The Velvet Cup:** Implies a smooth, luxurious coffee experience.\n",
      "* **The Bean & Bloom:** Conveys a sense of freshness and artisanal care.\n",
      "* **The Coffee Apothecary:** Hints at the specialized nature of the coffee and its unique qualities.\n",
      "\n",
      "**Evoking Community & Welcoming Atmosphere:**\n",
      "\n",
      "* **The Common Ground:** Emphasizes the shared love for coffee and community gathering.\n",
      "* **The Daily Grind:** A friendly and relatable name, welcoming coffee lovers every day.\n",
      "* **The Corner Bean:** Suggests a cozy neighborhood spot for coffee lovers.\n",
      "* **The Gather & Grind:** Encourages people to come together and enjoy coffee.\n",
      "* **The Brew & Belong:** Evokes a sense of belonging and connection through shared coffee experiences.\n",
      "\n",
      "**Unique & Playful Options:**\n",
      "\n",
      "* **The Third Wave Roasters:**  Modern, playful, and emphasizes the high-quality coffee.\n",
      "* **The Coffee Alchemist:**  Suggests a magical and transformative coffee experience.\n",
      "* **The Bean & Bloom Cafe:**  Adds a touch of whimsy and charm to the name.\n",
      "* **The Bean & Barrel:**  Combines coffee with a sense of comfort and community.\n",
      "* **The Espresso Muse:**  Captures the inspirational power of coffee and the cafe's unique charm.\n",
      "\n",
      "**Pro Tip:**  Consider using alliteration or rhymes in your name for memorability.\n",
      "\n",
      "**Bonus:**  Use a name generator for additional inspiration and explore online resources for trending cafe names.\n",
      "\n",
      "Ultimately, the best name will depend on your specific brand identity and target audience. Remember to check for availability of the name and website domain before finalizing your choice! \n",
      "\n",
      "----Lets see what concise prompt yields:\n",
      "## Cafe Names for Ethically Sourced Gourmet Coffee:\n",
      "\n",
      "**Short & Sweet:**\n",
      "\n",
      "* Bean & Co.\n",
      "* The Ethical Grind\n",
      "* The Honest Cup\n",
      "* Fair Trade Brew\n",
      "* The Beanery\n",
      "* Origin Coffee\n",
      "* The Daily Grind\n",
      "* The Roastery\n",
      "* The Coffee Collective\n",
      "\n",
      "**Descriptive & Alluring:**\n",
      "\n",
      "* The Sustainable Sip\n",
      "* The Conscious Cup\n",
      "* The Fair Harvest Cafe\n",
      "* The Artisan Bean\n",
      "* The Coffee Connoisseur\n",
      "* The Ethical Espresso\n",
      "* The Rainforest Reserve\n",
      "* The Single Origin Cafe\n",
      "* The Specialty Coffee Bar\n",
      "\n",
      "**Playful & Unique:**\n",
      "\n",
      "* The Bean Whisperer\n",
      "* The Coffee Alchemist\n",
      "* The Caffeine Crusaders\n",
      "* The Coffee Revolution\n",
      "* The Bean Counter\n",
      "* The Coffee Nomad\n",
      "* The Roaster's Den\n",
      "* The Java Junkie\n",
      "* The Coffee Oasis\n",
      "\n",
      "**Location-Specific:**\n",
      "\n",
      "* [Your City] Coffee Co.\n",
      "* [Your Street] Beanery\n",
      "* [Your Neighborhood] Coffee House\n",
      "\n",
      "**Bonus:**\n",
      "\n",
      "* Include the word \"organic\" or \"sustainable\" in the name for emphasis.\n",
      "* Use a catchy tagline like \"Coffee with a Conscience\" or \"Brewed with Integrity.\"\n",
      "\n",
      "**Tips for Choosing a Name:**\n",
      "\n",
      "* **Keep it simple and memorable.**\n",
      "* **Consider your target audience.**\n",
      "* **Check for availability.**\n",
      "* **Make sure it reflects your brand values.**\n",
      "\n",
      "**Pro Tip:** Play around with different combinations and see what feels right for your cafe. Good luck! ☕️\n"
     ]
    }
   ],
   "source": [
    "print(\"----Lets see what normal prompt yields:\")\n",
    "res_normal_prompt =  model.generate_content(normal_prompt)\n",
    "print(res_normal_prompt.text)\n",
    "\n",
    "print(\"----Lets see what concise prompt yields:\")\n",
    "res_concise_prompt =  model.generate_content(concise_prompt)\n",
    "print(res_concise_prompt.text)\n"
   ]
  },
  {
   "cell_type": "code",
   "execution_count": 13,
   "metadata": {},
   "outputs": [
    {
     "name": "stdout",
     "output_type": "stream",
     "text": [
      "## Catchy Product Names for an Eco-Friendly Reusable Water Bottle:\n",
      "\n",
      "**Playing on Recycled Ocean Plastics:**\n",
      "\n",
      "* **Ocean Flow**\n",
      "* **Tide Bottle**\n",
      "* **Sea Change**\n",
      "* **Reef Rescue**\n",
      "* **Aqua Cycle**\n",
      "* **Wave Rider**\n",
      "\n",
      "**Highlighting Outdoor Adventure:**\n",
      "\n",
      "* **Trailblazer**\n",
      "* **Summit Hydration**\n",
      "* **Peak Performance**\n",
      "* **Wildflow**\n",
      "* **Adventure Oasis**\n",
      "* **Expedition Bottle**\n",
      "\n",
      "**Combining Eco & Adventure:**\n",
      "\n",
      "* **Eco-Trail**\n",
      "* **Green Summit**\n",
      "* **Reef Runner**\n",
      "* **Sustainable Adventure**\n",
      "* **Ocean Bound**\n",
      "* **Earth Explorer**\n",
      "\n",
      "**Short & Punchy:**\n",
      "\n",
      "* **Flow**\n",
      "* **Hydrate**\n",
      "* **Revive**\n",
      "* **Evergreen**\n",
      "* **Oceanic**\n",
      "\n",
      "**Bonus:**\n",
      "\n",
      "* **[Brand Name] Ocean Bottle** (for a company already established)\n",
      "\n",
      "**Tips for Choosing:**\n",
      "\n",
      "* **Keep it short and memorable.**\n",
      "* **Reflect the product's benefits (eco-friendly, durable, etc.).**\n",
      "* **Target the intended audience (outdoor enthusiasts).**\n",
      "* **Check for trademark availability.**\n",
      "\n",
      "**Remember, the best name will resonate with your target market and effectively communicate the product's unique features.** \n",
      "\n"
     ]
    }
   ],
   "source": [
    "### More details are good when asking for a very Specific task\n",
    "\n",
    "prompt3 = \"\"\"\n",
    "Suggest a catchy product name for an eco-friendly reusable water bottle\n",
    "made from recycled ocean plastics, designed for environmentally conscious\n",
    "outdoor enthusiasts who enjoy hiking and adventure sports.\n",
    "\"\"\"\n",
    "\n",
    "res_prompt3 = model.generate_content(prompt3)\n",
    "print(res_prompt3.text)"
   ]
  },
  {
   "cell_type": "markdown",
   "metadata": {},
   "source": [
    "Try to ask one question at a time while constructing a prompt and if it's long their should be some relation and context match in prompt construction."
   ]
  },
  {
   "cell_type": "markdown",
   "metadata": {},
   "source": [
    "We need to also consider the Time-cut-off means - all the models are not trained upto a particular date and dont have access to real time data."
   ]
  },
  {
   "cell_type": "code",
   "execution_count": 14,
   "metadata": {},
   "outputs": [
    {
     "name": "stdout",
     "output_type": "stream",
     "text": [
      "I cannot provide you with a specific stock value prediction for IRFC (Indian Railway Finance Corporation) in February 2025. \n",
      "\n",
      "Here's why:\n",
      "\n",
      "* **Predicting the future is impossible.**  Stock prices are influenced by a vast number of factors, including:\n",
      "    * **Economic conditions:** Interest rates, inflation, GDP growth, etc.\n",
      "    * **Industry performance:** The overall health of the railway sector in India.\n",
      "    * **Company performance:** IRFC's financial performance, new projects, and management decisions.\n",
      "    * **Market sentiment:** Investor confidence and overall market trends.\n",
      "    * **Geopolitical events:** Global events can have a significant impact on stock markets.\n",
      "* **I am an AI, not a financial advisor.** My purpose is to provide helpful information, not to give investment advice. \n",
      "\n",
      "**What you can do to get information:**\n",
      "\n",
      "* **Consult a financial advisor:** A professional can help you analyze IRFC's fundamentals and market conditions to make informed investment decisions.\n",
      "* **Follow financial news and analysts' reports:** Stay up-to-date on relevant industry news and expert opinions.\n",
      "* **Analyze IRFC's financial reports:** Look at their earnings, debt levels, and other financial metrics.\n",
      "\n",
      "Remember, any prediction about stock prices is just speculation. Investing in the stock market involves risk, and you should always conduct thorough research and seek professional advice before making any investment decisions. \n",
      "\n"
     ]
    }
   ],
   "source": [
    "res_prompt = model.generate_content(\"What is the stock value of IRFC in Feb 2025?\")\n",
    "print(res_prompt.text)"
   ]
  },
  {
   "cell_type": "code",
   "execution_count": null,
   "metadata": {},
   "outputs": [],
   "source": []
  }
 ],
 "metadata": {
  "kernelspec": {
   "display_name": "venv",
   "language": "python",
   "name": "python3"
  },
  "language_info": {
   "codemirror_mode": {
    "name": "ipython",
    "version": 3
   },
   "file_extension": ".py",
   "mimetype": "text/x-python",
   "name": "python",
   "nbconvert_exporter": "python",
   "pygments_lexer": "ipython3",
   "version": "3.12.6"
  }
 },
 "nbformat": 4,
 "nbformat_minor": 2
}
