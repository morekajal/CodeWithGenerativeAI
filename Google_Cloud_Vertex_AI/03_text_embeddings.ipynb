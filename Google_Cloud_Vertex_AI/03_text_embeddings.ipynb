{
 "cells": [
  {
   "cell_type": "markdown",
   "metadata": {},
   "source": [
    "Google Embedding - https://cloud.google.com/vertex-ai/generative-ai/docs/embeddings/get-text-embeddings"
   ]
  },
  {
   "cell_type": "code",
   "execution_count": 2,
   "metadata": {},
   "outputs": [],
   "source": [
    "import sys\n",
    "import os\n",
    "sys.path.append(os.path.abspath(\"..\"))\n",
    "import gcp_connect"
   ]
  },
  {
   "cell_type": "code",
   "execution_count": null,
   "metadata": {},
   "outputs": [],
   "source": [
    "import vertexai\n",
    "\n",
    "# Initialize with your project and location\n",
    "vertexai.init(project=\"your_project_name\", location=\"us-central1\")\n",
    "\n",
    "from vertexai.language_models import TextEmbeddingModel\n",
    "model = TextEmbeddingModel.from_pretrained(\"text-embedding-004\")\n"
   ]
  },
  {
   "cell_type": "code",
   "execution_count": 4,
   "metadata": {},
   "outputs": [
    {
     "name": "stdout",
     "output_type": "stream",
     "text": [
      "Sentence: Google AI is powerful.\n",
      "Embedding (first 5 values): [-0.01080463  0.01659286 -0.0556909   0.02540751 -0.00166896]\n",
      "\n",
      "Sentence: Artificial Intelligence is the future.\n",
      "Embedding (first 5 values): [-0.04059849  0.00771684  0.02021093  0.00699761 -0.02913842]\n",
      "\n",
      "Sentence: Machine Learning is evolving fast.\n",
      "Embedding (first 5 values): [-0.02018758 -0.01226121 -0.03121706  0.04497187 -0.01704241]\n",
      "\n"
     ]
    }
   ],
   "source": [
    "import numpy as np\n",
    "from vertexai.preview.language_models import TextEmbeddingModel\n",
    "\n",
    "\n",
    "def generate_multiple_embeddings(sentences):\n",
    "    \"\"\"\n",
    "    Generate text embeddings for a list of sentences using Vertex AI's text-embedding-004 model.\n",
    "\n",
    "    Args:\n",
    "        sentences (list): List of sentences to generate embeddings for.\n",
    "\n",
    "    Returns:\n",
    "        dict: A dictionary with sentences as keys and their corresponding embedding vectors as values.\n",
    "    \"\"\"\n",
    "    # Load the Vertex AI embedding model\n",
    "    model = TextEmbeddingModel.from_pretrained(\"text-embedding-004\")\n",
    "\n",
    "    # Generate embeddings\n",
    "    embeddings = model.get_embeddings(sentences)\n",
    "\n",
    "    # Convert embeddings into a dictionary (sentence → embedding vector)\n",
    "    embeddings_dict = {sentence: np.array(emb.values) for sentence, emb in zip(sentences, embeddings)}\n",
    "\n",
    "    return embeddings_dict\n",
    "\n",
    "# Example usage\n",
    "sentences = [\"Google AI is powerful.\", \"Artificial Intelligence is the future.\", \"Machine Learning is evolving fast.\"]\n",
    "sentence_embeddings = generate_multiple_embeddings(sentences)\n",
    "\n",
    "# Display the first 5 values of each sentence embedding\n",
    "for sentence, embedding in sentence_embeddings.items():\n",
    "    print(f\"Sentence: {sentence}\\nEmbedding (first 5 values): {embedding[:5]}\\n\")\n"
   ]
  },
  {
   "cell_type": "code",
   "execution_count": 7,
   "metadata": {},
   "outputs": [],
   "source": [
    "embedding_model = TextEmbeddingModel.from_pretrained(\"text-embedding-005\")"
   ]
  },
  {
   "cell_type": "code",
   "execution_count": 8,
   "metadata": {},
   "outputs": [
    {
     "name": "stdout",
     "output_type": "stream",
     "text": [
      "First text embedding vector: [-0.02941267564892769, -0.0201901663094759, -0.019987927749753, 0.009123839437961578, 0.012518510222434998]\n"
     ]
    }
   ],
   "source": [
    "texts = [\"Google AI is powerful.\", \"Artificial Intelligence is the future.\", \"Machine Learning is evolving fast.\"]\n",
    "\n",
    "# Get embeddings\n",
    "embeddings = embedding_model.get_embeddings(texts)\n",
    "\n",
    "# Print the first embedding vector\n",
    "print(\"First text embedding vector:\", embeddings[0].values[:5])  # Display first 5 values\n"
   ]
  },
  {
   "cell_type": "code",
   "execution_count": null,
   "metadata": {},
   "outputs": [],
   "source": []
  },
  {
   "cell_type": "code",
   "execution_count": null,
   "metadata": {},
   "outputs": [],
   "source": []
  }
 ],
 "metadata": {
  "kernelspec": {
   "display_name": "venv",
   "language": "python",
   "name": "python3"
  },
  "language_info": {
   "codemirror_mode": {
    "name": "ipython",
    "version": 3
   },
   "file_extension": ".py",
   "mimetype": "text/x-python",
   "name": "python",
   "nbconvert_exporter": "python",
   "pygments_lexer": "ipython3",
   "version": "3.12.6"
  }
 },
 "nbformat": 4,
 "nbformat_minor": 2
}
